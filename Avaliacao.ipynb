{
  "nbformat": 4,
  "nbformat_minor": 0,
  "metadata": {
    "colab": {
      "provenance": []
    },
    "kernelspec": {
      "name": "python3",
      "display_name": "Python 3"
    },
    "language_info": {
      "name": "python"
    }
  },
  "cells": [
    {
      "cell_type": "markdown",
      "source": [
        "Considerando a matriz abaixo, crie uma função chamada uso_maximo() que receba como parâmetro uma lista com os valores de uso de CPU de uma região e retorne o valor máximo de uso. Teste essa função para cada região da matriz.  \n"
      ],
      "metadata": {
        "id": "BQ-aV31vG6_7"
      }
    },
    {
      "cell_type": "code",
      "source": [
        "def uso_maximo(lista):\n",
        "    maximo = lista[0]\n",
        "    for valor in lista:\n",
        "        if valor > maximo:\n",
        "            maximo = valor\n",
        "    return maximo\n",
        "\n",
        "uso_cpu = [\n",
        "    [20, 25, 40, 50, 45, 60, 55, 35, 70, 65],\n",
        "    [30, 35, 50, 60, 40, 55, 60, 45, 50, 55],\n",
        "    [15, 20, 30, 25, 35, 40, 45, 50, 55, 60],\n",
        "    [10, 15, 25, 35, 45, 50, 55, 60, 65, 70],\n",
        "]\n",
        "\n",
        "print(\"Uso máximo de CPU por região:\")\n",
        "for i, regiao in enumerate(uso_cpu):\n",
        "    maximo = uso_maximo(regiao)\n",
        "    print(f\"Região {i+1} = {maximo}\")\n"
      ],
      "metadata": {
        "colab": {
          "base_uri": "https://localhost:8080/"
        },
        "id": "jxKgiIapENcM",
        "outputId": "cf19d978-c015-4346-f14d-50a90b4a03cb"
      },
      "execution_count": 19,
      "outputs": [
        {
          "output_type": "stream",
          "name": "stdout",
          "text": [
            "Uso máximo de CPU por região:\n",
            "Região 1 = 70\n",
            "Região 2 = 60\n",
            "Região 3 = 60\n",
            "Região 4 = 70\n"
          ]
        }
      ]
    },
    {
      "cell_type": "markdown",
      "source": [
        "Crie uma função chamada acima_da_media() que receba uma lista com os dados de uma região e retorne quantos valores estão acima da média daquela região. Teste a função para todas as regiões da matriz."
      ],
      "metadata": {
        "id": "9tCIn3aSHAvS"
      }
    },
    {
      "cell_type": "code",
      "source": [
        "def acima_da_media(lista):\n",
        "    soma = 0\n",
        "    for valor in lista:\n",
        "        soma += valor\n",
        "    media = soma / len(lista)\n",
        "\n",
        "    contador = 0\n",
        "    for valor in lista:\n",
        "        if valor > media:\n",
        "            contador += 1\n",
        "    return contador\n",
        "\n",
        "\n",
        "uso_cpu = [\n",
        "    [20, 25, 40, 50, 45, 60, 55, 35, 70, 65],\n",
        "    [30, 35, 50, 60, 40, 55, 60, 45, 50, 55],\n",
        "    [15, 20, 30, 25, 35, 40, 45, 50, 55, 60],\n",
        "    [10, 15, 25, 35, 45, 50, 55, 60, 65, 70],\n",
        "]\n",
        "\n",
        "print(\"Acima da média por região:\")\n",
        "for i, regiao in enumerate(uso_cpu):\n",
        "    acima = acima_da_media(regiao)\n",
        "    print(f\"Região {i+1} = {acima}\")\n"
      ],
      "metadata": {
        "colab": {
          "base_uri": "https://localhost:8080/"
        },
        "id": "3kV7DeCbENhu",
        "outputId": "6d1f5b95-e0f9-468a-e78e-54adf11d14df"
      },
      "execution_count": 28,
      "outputs": [
        {
          "output_type": "stream",
          "name": "stdout",
          "text": [
            "Acima da média por região:\n",
            "Região 1 = 5\n",
            "Região 2 = 6\n",
            "Região 3 = 5\n",
            "Região 4 = 6\n"
          ]
        }
      ]
    },
    {
      "cell_type": "markdown",
      "source": [
        "Crie uma função chamada dados_decrescente que recebe como parâmetro uma lista com os valores de uso de CPU de uma região. A função deve retornar a lista organizada em ordem decrescente, do menor uso de CPU para o maior. Teste a função para todas as regiões da matriz"
      ],
      "metadata": {
        "id": "j3URPsdeIlEp"
      }
    },
    {
      "cell_type": "code",
      "source": [
        "def dados_decrescente(lista):\n",
        "    lista.sort(reverse=True)\n",
        "    return lista\n",
        "\n",
        "uso_cpu = [\n",
        "    [20, 25, 40, 50, 45, 60, 55, 35, 70, 65],\n",
        "    [30, 35, 50, 60, 40, 55, 60, 45, 50, 55],\n",
        "    [15, 20, 30, 25, 35, 40, 45, 50, 55, 60],\n",
        "    [10, 15, 25, 35, 45, 50, 55, 60, 65, 70],\n",
        "]\n",
        "\n",
        "print(\"Dados decrescente por região:\")\n",
        "for i, regiao in enumerate(uso_cpu):\n",
        "    decrescente = dados_decrescente(regiao)\n",
        "    print(f\"Região {i+1} = {decrescente}\")"
      ],
      "metadata": {
        "colab": {
          "base_uri": "https://localhost:8080/"
        },
        "id": "-vow_TUSENkl",
        "outputId": "36a5e797-ec0f-4367-a3c1-d8e22ae2269a"
      },
      "execution_count": 35,
      "outputs": [
        {
          "output_type": "stream",
          "name": "stdout",
          "text": [
            "Dados decrescente por região:\n",
            "Região 1 = [70, 65, 60, 55, 50, 45, 40, 35, 25, 20]\n",
            "Região 2 = [60, 60, 55, 55, 50, 50, 45, 40, 35, 30]\n",
            "Região 3 = [60, 55, 50, 45, 40, 35, 30, 25, 20, 15]\n",
            "Região 4 = [70, 65, 60, 55, 50, 45, 35, 25, 15, 10]\n"
          ]
        }
      ]
    },
    {
      "cell_type": "code",
      "source": [],
      "metadata": {
        "id": "a9NEibbZJDGQ"
      },
      "execution_count": null,
      "outputs": []
    },
    {
      "cell_type": "markdown",
      "source": [
        "Utilizando a biblioteca pandas, crie um DataFrame com os dados da matriz acima. Os nomes das colunas devem ser\n",
        "\n",
        "[\"hora_1\", \"hora_2\",..., \"hora_10\"]\n",
        "e as linhas representam as regiões\n",
        "\n",
        "[\"us-east-1\", \"us-west-2\", \"eu-central-1\", \"sa-east-1\" ].\n",
        "\n",
        "  Em seguida, adicione uma nova coluna ao DataFrame com o nome \"uso_médio\" que contenha a média de uso de CPU de cada hora. Exiba o DataFrame resultante.  "
      ],
      "metadata": {
        "id": "APwE8JNPI4-j"
      }
    },
    {
      "cell_type": "code",
      "source": [
        "import pandas as pd\n",
        "import numpy as np"
      ],
      "metadata": {
        "id": "_uMXlcwSENnM"
      },
      "execution_count": 32,
      "outputs": []
    },
    {
      "cell_type": "code",
      "source": [
        "uso_cpu = [\n",
        "    [55, 60, 57, 59, 61, 58, 60, 62, 63, 64],\n",
        "    [45, 49, 47, 50, 52, 48, 51, 53, 55, 54],\n",
        "    [70, 72, 71, 74, 75, 73, 76, 77, 78, 79],\n",
        "    [35, 38, 37, 36, 40, 39, 41, 42, 43, 44]\n",
        "]\n",
        "\n",
        "\n",
        "colunas = [f\"hora_{i}\" for i in range(1, 11)]\n",
        "regioes = [\"us-east-1\", \"us-west-2\", \"eu-central-1\", \"sa-east-1\"]\n",
        "dataFrame = pd.DataFrame(uso_cpu, columns=colunas, index=regioes)\n",
        "dataFrame[\"uso_médio\"] = dataFrame.mean(axis=1)\n",
        "\n",
        "print(dataFrame)"
      ],
      "metadata": {
        "colab": {
          "base_uri": "https://localhost:8080/"
        },
        "id": "eRv7s0EsJdXJ",
        "outputId": "8d404cb6-1018-4254-83ad-bf2676bf0089"
      },
      "execution_count": 33,
      "outputs": [
        {
          "output_type": "stream",
          "name": "stdout",
          "text": [
            "              hora_1  hora_2  hora_3  hora_4  hora_5  hora_6  hora_7  hora_8  \\\n",
            "us-east-1         55      60      57      59      61      58      60      62   \n",
            "us-west-2         45      49      47      50      52      48      51      53   \n",
            "eu-central-1      70      72      71      74      75      73      76      77   \n",
            "sa-east-1         35      38      37      36      40      39      41      42   \n",
            "\n",
            "              hora_9  hora_10  uso_médio  \n",
            "us-east-1         63       64       59.9  \n",
            "us-west-2         55       54       50.4  \n",
            "eu-central-1      78       79       74.5  \n",
            "sa-east-1         43       44       39.5  \n"
          ]
        }
      ]
    }
  ]
}